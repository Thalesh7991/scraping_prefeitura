{
 "cells": [
  {
   "cell_type": "code",
   "execution_count": 1,
   "metadata": {},
   "outputs": [],
   "source": [
    "import pandas as pd\n",
    "import requests\n",
    "import os\n",
    "from bs4 import BeautifulSoup\n",
    "pd.set_option('display.max_rows', None)"
   ]
  },
  {
   "cell_type": "code",
   "execution_count": 2,
   "metadata": {},
   "outputs": [],
   "source": [
    "headers = {'user-agent': 'Mozilla/5.0'}\n",
    "resposta = requests.get('https://www.camarabotucatu.sp.gov.br/Vereador',\n",
    "                        headers= headers\n",
    "                        )"
   ]
  },
  {
   "cell_type": "markdown",
   "metadata": {},
   "source": [
    "## Pegando o Nome e o Partido dos Vereadores"
   ]
  },
  {
   "cell_type": "code",
   "execution_count": 3,
   "metadata": {},
   "outputs": [],
   "source": [
    "text_estruturado = BeautifulSoup(resposta.text)\n",
    "#text_estruturado"
   ]
  },
  {
   "cell_type": "code",
   "execution_count": 4,
   "metadata": {},
   "outputs": [],
   "source": [
    "lista_vereadores = text_estruturado.find_all('h2')"
   ]
  },
  {
   "cell_type": "code",
   "execution_count": 5,
   "metadata": {},
   "outputs": [
    {
     "data": {
      "text/plain": [
       "[<h2>\n",
       " <a href=\"http://www.camarabotucatu.sp.gov.br/Consulta/vereadores/Vereador/68\" target=\"_blank\">Abelardo Wanderlino da Costa Neto - Abelardo</a>\n",
       " </h2>,\n",
       " <h2>\n",
       " <a href=\"http://www.camarabotucatu.sp.gov.br/Consulta/vereadores/Vereador/81\" target=\"_blank\">Alessandra Lucchesi de Oliveira - Alessandra Lucchesi</a>\n",
       " </h2>,\n",
       " <h2>\n",
       " <a href=\"http://www.camarabotucatu.sp.gov.br/Consulta/vereadores/Vereador/69\" target=\"_blank\">André Rogério Barbosa - Curumim (Licenciado)</a>\n",
       " </h2>,\n",
       " <h2>\n",
       " <a href=\"http://www.camarabotucatu.sp.gov.br/Consulta/vereadores/Vereador/47\" target=\"_blank\">Antonio Carlos Vaz de Almeida - Cula</a>\n",
       " </h2>,\n",
       " <h2>\n",
       " <a href=\"http://www.camarabotucatu.sp.gov.br/Consulta/vereadores/Vereador/7076\" target=\"_blank\">Cláudia Maria Gabriel - Cláudia Gabriel (Licenciada)</a>\n",
       " </h2>,\n",
       " <h2>\n",
       " <a href=\"http://www.camarabotucatu.sp.gov.br/Consulta/vereadores/Vereador/7075\" target=\"_blank\">Elias Marcelo Sleiman - Marcelo Sleiman</a>\n",
       " </h2>,\n",
       " <h2>\n",
       " <a href=\"http://www.camarabotucatu.sp.gov.br/Consulta/vereadores/Vereador/7072\" target=\"_blank\">Erika Cristina Liao Tiago  - Erika da Liga do Bem</a>\n",
       " </h2>,\n",
       " <h2>\n",
       " <a href=\"http://www.camarabotucatu.sp.gov.br/Consulta/vereadores/Vereador/7338\" target=\"_blank\">José Pedroso Bitencourt - Pedroso (Suplente)</a>\n",
       " </h2>,\n",
       " <h2>\n",
       " <a href=\"http://www.camarabotucatu.sp.gov.br/Consulta/vereadores/Vereador/83\" target=\"_blank\">Laudo Gomes da Silva - Sargento Laudo</a>\n",
       " </h2>,\n",
       " <h2>\n",
       " <a href=\"http://www.camarabotucatu.sp.gov.br/Consulta/vereadores/Vereador/67\" target=\"_blank\">Luiz Aurélio Pagani - Lelo Pagani (Suplente)</a>\n",
       " </h2>,\n",
       " <h2>\n",
       " <a href=\"http://www.camarabotucatu.sp.gov.br/Consulta/vereadores/Vereador/7073\" target=\"_blank\">RODRIGO RODRIGUES - PALHINHA</a>\n",
       " </h2>,\n",
       " <h2>\n",
       " <a href=\"http://www.camarabotucatu.sp.gov.br/Consulta/vereadores/Vereador/80\" target=\"_blank\">Roseli Antunes da Silva Ielo - Rose Ielo</a>\n",
       " </h2>,\n",
       " <h2>\n",
       " <a href=\"http://www.camarabotucatu.sp.gov.br/Consulta/vereadores/Vereador/7074\" target=\"_blank\">Silvio dos Santos - Silvio</a>\n",
       " </h2>]"
      ]
     },
     "execution_count": 5,
     "metadata": {},
     "output_type": "execute_result"
    }
   ],
   "source": [
    "lista_vereadores"
   ]
  },
  {
   "cell_type": "code",
   "execution_count": 6,
   "metadata": {},
   "outputs": [],
   "source": [
    "# Captando o nome e o partido dos vereadores\n",
    "tags_li = text_estruturado.find_all('span')\n",
    "lista_partidos = []\n",
    "for i in range(len(tags_li)):\n",
    "    if tags_li[i].find_all(['li']):\n",
    "        if tags_li[i].find_all('a'):\n",
    "            lista_partidos.append( tags_li[i].text.replace('\\n', '') )\n",
    "\n",
    "\n",
    "nomes_vereadores = []\n",
    "for i in range(len(lista_vereadores)):\n",
    "    #print(i)\n",
    "    nomes_vereadores.append(  lista_vereadores[i].contents[1].text.split('-')[1].strip()  )\n"
   ]
  },
  {
   "cell_type": "code",
   "execution_count": 26,
   "metadata": {},
   "outputs": [
    {
     "data": {
      "text/plain": [
       "'testando o spli'"
      ]
     },
     "execution_count": 26,
     "metadata": {},
     "output_type": "execute_result"
    }
   ],
   "source": []
  },
  {
   "cell_type": "markdown",
   "metadata": {},
   "source": [
    "## Captando as imagens dos Vereadores"
   ]
  },
  {
   "cell_type": "code",
   "execution_count": 7,
   "metadata": {},
   "outputs": [],
   "source": [
    "import re\n",
    "\n",
    "teste = []\n",
    "teste2 = []\n",
    "\n",
    "x = text_estruturado.find_all('div', {'class': 'col-md-3'})\n",
    "for i in range(len(x)):\n",
    "    if x[i].find('div', {'class':'img'}):\n",
    "        teste.append(x[i].find('div', {'class':'img'}))\n",
    "        #print(teste)\n",
    "for j in range(len(teste)):\n",
    "    if teste[j].find('img'):\n",
    "        teste2.append(teste[j].find_all('img', {'src': re.compile('\\.jpg$', re.IGNORECASE)}))\n"
   ]
  },
  {
   "cell_type": "code",
   "execution_count": 8,
   "metadata": {},
   "outputs": [],
   "source": [
    "save_folder = \"../img\"\n",
    "for img_tag in teste2:\n",
    "    src = img_tag[0]['src']\n",
    "    alt = img_tag[0]['alt'].split('-')[1].strip()\n",
    "    img_url = f\"https://www.camarabotucatu.sp.gov.br/{src}\" \n",
    "    filename = os.path.join(save_folder, f\"{alt}.jpg\")\n",
    "\n",
    "    response = requests.get(img_url)\n",
    "    with open(filename, 'wb') as f:\n",
    "        f.write(response.content)"
   ]
  },
  {
   "cell_type": "code",
   "execution_count": 9,
   "metadata": {},
   "outputs": [],
   "source": [
    "df_vereadores = pd.DataFrame()"
   ]
  },
  {
   "cell_type": "code",
   "execution_count": 10,
   "metadata": {},
   "outputs": [
    {
     "data": {
      "text/plain": [
       "['Republicanos',\n",
       " 'PSDB-Partido da Social Democracia Brasileira',\n",
       " 'PSDB-Partido da Social Democracia Brasileira',\n",
       " 'PSDB-Partido da Social Democracia Brasileira',\n",
       " 'União Brasil',\n",
       " 'União Brasil',\n",
       " 'Republicanos',\n",
       " 'União Brasil',\n",
       " 'PSDB-Partido da Social Democracia Brasileira',\n",
       " 'PSDB-Partido da Social Democracia Brasileira',\n",
       " 'União Brasil',\n",
       " 'PDT-Partido Democrático Trabalhista',\n",
       " 'Republicanos']"
      ]
     },
     "execution_count": 10,
     "metadata": {},
     "output_type": "execute_result"
    }
   ],
   "source": [
    "lista_partidos"
   ]
  },
  {
   "cell_type": "code",
   "execution_count": 11,
   "metadata": {},
   "outputs": [],
   "source": [
    "df_vereadores['nome_vereador'] = nomes_vereadores\n",
    "df_vereadores['partido_vereador'] = lista_partidos"
   ]
  },
  {
   "cell_type": "code",
   "execution_count": 12,
   "metadata": {},
   "outputs": [
    {
     "data": {
      "text/plain": [
       "nome_vereador       object\n",
       "partido_vereador    object\n",
       "dtype: object"
      ]
     },
     "execution_count": 12,
     "metadata": {},
     "output_type": "execute_result"
    }
   ],
   "source": [
    "df_vereadores.dtypes"
   ]
  },
  {
   "cell_type": "code",
   "execution_count": 13,
   "metadata": {},
   "outputs": [
    {
     "data": {
      "text/html": [
       "<div>\n",
       "<style scoped>\n",
       "    .dataframe tbody tr th:only-of-type {\n",
       "        vertical-align: middle;\n",
       "    }\n",
       "\n",
       "    .dataframe tbody tr th {\n",
       "        vertical-align: top;\n",
       "    }\n",
       "\n",
       "    .dataframe thead th {\n",
       "        text-align: right;\n",
       "    }\n",
       "</style>\n",
       "<table border=\"1\" class=\"dataframe\">\n",
       "  <thead>\n",
       "    <tr style=\"text-align: right;\">\n",
       "      <th></th>\n",
       "      <th>nome_vereador</th>\n",
       "      <th>partido_vereador</th>\n",
       "    </tr>\n",
       "  </thead>\n",
       "  <tbody>\n",
       "    <tr>\n",
       "      <th>0</th>\n",
       "      <td>Abelardo</td>\n",
       "      <td>Republicanos</td>\n",
       "    </tr>\n",
       "    <tr>\n",
       "      <th>1</th>\n",
       "      <td>Alessandra Lucchesi</td>\n",
       "      <td>PSDB-Partido da Social Democracia Brasileira</td>\n",
       "    </tr>\n",
       "    <tr>\n",
       "      <th>2</th>\n",
       "      <td>Curumim (Licenciado)</td>\n",
       "      <td>PSDB-Partido da Social Democracia Brasileira</td>\n",
       "    </tr>\n",
       "    <tr>\n",
       "      <th>3</th>\n",
       "      <td>Cula</td>\n",
       "      <td>PSDB-Partido da Social Democracia Brasileira</td>\n",
       "    </tr>\n",
       "    <tr>\n",
       "      <th>4</th>\n",
       "      <td>Cláudia Gabriel (Licenciada)</td>\n",
       "      <td>União Brasil</td>\n",
       "    </tr>\n",
       "    <tr>\n",
       "      <th>5</th>\n",
       "      <td>Marcelo Sleiman</td>\n",
       "      <td>União Brasil</td>\n",
       "    </tr>\n",
       "    <tr>\n",
       "      <th>6</th>\n",
       "      <td>Erika da Liga do Bem</td>\n",
       "      <td>Republicanos</td>\n",
       "    </tr>\n",
       "    <tr>\n",
       "      <th>7</th>\n",
       "      <td>Pedroso (Suplente)</td>\n",
       "      <td>União Brasil</td>\n",
       "    </tr>\n",
       "    <tr>\n",
       "      <th>8</th>\n",
       "      <td>Sargento Laudo</td>\n",
       "      <td>PSDB-Partido da Social Democracia Brasileira</td>\n",
       "    </tr>\n",
       "    <tr>\n",
       "      <th>9</th>\n",
       "      <td>Lelo Pagani (Suplente)</td>\n",
       "      <td>PSDB-Partido da Social Democracia Brasileira</td>\n",
       "    </tr>\n",
       "    <tr>\n",
       "      <th>10</th>\n",
       "      <td>PALHINHA</td>\n",
       "      <td>União Brasil</td>\n",
       "    </tr>\n",
       "    <tr>\n",
       "      <th>11</th>\n",
       "      <td>Rose Ielo</td>\n",
       "      <td>PDT-Partido Democrático Trabalhista</td>\n",
       "    </tr>\n",
       "    <tr>\n",
       "      <th>12</th>\n",
       "      <td>Silvio</td>\n",
       "      <td>Republicanos</td>\n",
       "    </tr>\n",
       "  </tbody>\n",
       "</table>\n",
       "</div>"
      ],
      "text/plain": [
       "                   nome_vereador                              partido_vereador\n",
       "0                       Abelardo                                  Republicanos\n",
       "1            Alessandra Lucchesi  PSDB-Partido da Social Democracia Brasileira\n",
       "2           Curumim (Licenciado)  PSDB-Partido da Social Democracia Brasileira\n",
       "3                           Cula  PSDB-Partido da Social Democracia Brasileira\n",
       "4   Cláudia Gabriel (Licenciada)                                  União Brasil\n",
       "5                Marcelo Sleiman                                  União Brasil\n",
       "6           Erika da Liga do Bem                                  Republicanos\n",
       "7             Pedroso (Suplente)                                  União Brasil\n",
       "8                 Sargento Laudo  PSDB-Partido da Social Democracia Brasileira\n",
       "9         Lelo Pagani (Suplente)  PSDB-Partido da Social Democracia Brasileira\n",
       "10                      PALHINHA                                  União Brasil\n",
       "11                     Rose Ielo           PDT-Partido Democrático Trabalhista\n",
       "12                        Silvio                                  Republicanos"
      ]
     },
     "execution_count": 13,
     "metadata": {},
     "output_type": "execute_result"
    }
   ],
   "source": [
    "df_vereadores"
   ]
  },
  {
   "cell_type": "markdown",
   "metadata": {},
   "source": [
    "## Para Cada Vereador trazer tabela do que ja fez em cada Ano"
   ]
  },
  {
   "cell_type": "code",
   "execution_count": 14,
   "metadata": {},
   "outputs": [],
   "source": [
    "links_vereadores = []\n",
    "for i in range(len(lista_vereadores)):\n",
    "    links_vereadores.append(lista_vereadores[i].a.get('href'))\n",
    "\n",
    "df_vereadores['link'] = links_vereadores"
   ]
  },
  {
   "cell_type": "code",
   "execution_count": 15,
   "metadata": {},
   "outputs": [
    {
     "name": "stdout",
     "output_type": "stream",
     "text": [
      "0\n",
      "1\n",
      "2\n",
      "3\n",
      "4\n",
      "5\n",
      "6\n",
      "7\n",
      "8\n",
      "9\n",
      "10\n",
      "11\n",
      "12\n"
     ]
    }
   ],
   "source": [
    "df_final = pd.DataFrame(columns=['Tipo', 'Quantidade','Ano'])\n",
    "\n",
    "for i in range(len(df_vereadores)):\n",
    "\n",
    "    print(i)\n",
    "\n",
    "    #pega o nome do vereador\n",
    "    nome_atual_vereador = df_vereadores.iloc[i][:i+1]['nome_vereador']\n",
    "\n",
    "\n",
    "    #pega o link do vereador\n",
    "    #df_vereadores.iloc[i][:i+1]['link']\n",
    "\n",
    "\n",
    "    headers = {'user-agent': 'Mozilla/5.0'}\n",
    "    resposta_vereador = requests.get(df_vereadores[:i+1]['link'].iloc[-1],\n",
    "                        headers= headers\n",
    "                        )\n",
    "    \n",
    "    vereador_estruturado = BeautifulSoup(resposta_vereador.text)\n",
    "    tabela_documentos = vereador_estruturado.find_all('table')\n",
    "\n",
    "    # Pegando a linha da tabela do site que contém os anos de atuação dos vereadores\n",
    "    lista_anos = []\n",
    "\n",
    "    for i in range(len(tabela_documentos)):\n",
    "        if tabela_documentos[i].find_all('caption')[0].text == 'Documentos':\n",
    "            tabela_documentos = tabela_documentos[i]\n",
    "\n",
    "\n",
    "    for i in range(len( tabela_documentos.find_all('th', {'class': 'text-right'}) ) ):\n",
    "        if tabela_documentos.find_all('th', {'class': 'text-right'})[i].text:\n",
    "            lista_anos.append(tabela_documentos.find_all('th', {'class': 'text-right'})[i].text)\n",
    "    lista_anos = sorted([*set(lista_anos)])\n",
    "    if 'Total' in lista_anos:\n",
    "        lista_anos.remove('Total')\n",
    "    #lista_anos\n",
    "\n",
    "\n",
    "    # Pegando todas as proposituras do vereador em cada tipo e alocando em um dataframe\n",
    "    tbody = tabela_documentos.find_all('tbody')[0].find_all('tr')#[0]#.find_all('td')\n",
    "    list_dict = []\n",
    "    df_teste = pd.DataFrame(columns=['Tipo', 'Quantidade'])\n",
    "\n",
    "    for i in range(len(tbody)):\n",
    "        for j in range(len( tbody[i].find_all('td') )):\n",
    "            list_dict.append(tbody[i].find_all('td')[j].text)\n",
    "        #print(list_dict)\n",
    "        \n",
    "        #list_aux = list_dict\n",
    "        #list_aux.remove(list_aux[0])\n",
    "        df_novo = pd.DataFrame({'Tipo': [list_dict[0]]*(len(list_dict)-2), 'Quantidade': list_dict[1:-1], 'Ano': lista_anos,'Vereador': nome_atual_vereador})\n",
    "        df_teste = pd.concat([df_teste, df_novo], ignore_index=True)\n",
    "\n",
    "        list_dict = []\n",
    "    df_final = pd.concat([df_final,df_teste])\n",
    "    df_final = df_final.loc[df_final['Tipo'] != 'Total']\n",
    "    \n",
    "    "
   ]
  },
  {
   "cell_type": "code",
   "execution_count": 16,
   "metadata": {},
   "outputs": [
    {
     "data": {
      "text/html": [
       "<div>\n",
       "<style scoped>\n",
       "    .dataframe tbody tr th:only-of-type {\n",
       "        vertical-align: middle;\n",
       "    }\n",
       "\n",
       "    .dataframe tbody tr th {\n",
       "        vertical-align: top;\n",
       "    }\n",
       "\n",
       "    .dataframe thead th {\n",
       "        text-align: right;\n",
       "    }\n",
       "</style>\n",
       "<table border=\"1\" class=\"dataframe\">\n",
       "  <thead>\n",
       "    <tr style=\"text-align: right;\">\n",
       "      <th></th>\n",
       "      <th>Tipo</th>\n",
       "      <th>Quantidade</th>\n",
       "      <th>Ano</th>\n",
       "      <th>Vereador</th>\n",
       "    </tr>\n",
       "  </thead>\n",
       "  <tbody>\n",
       "    <tr>\n",
       "      <th>0</th>\n",
       "      <td>Correspondências Recebidas</td>\n",
       "      <td>0</td>\n",
       "      <td>2009</td>\n",
       "      <td>Abelardo</td>\n",
       "    </tr>\n",
       "    <tr>\n",
       "      <th>1</th>\n",
       "      <td>Correspondências Recebidas</td>\n",
       "      <td>1</td>\n",
       "      <td>2010</td>\n",
       "      <td>Abelardo</td>\n",
       "    </tr>\n",
       "    <tr>\n",
       "      <th>2</th>\n",
       "      <td>Correspondências Recebidas</td>\n",
       "      <td>0</td>\n",
       "      <td>2011</td>\n",
       "      <td>Abelardo</td>\n",
       "    </tr>\n",
       "    <tr>\n",
       "      <th>3</th>\n",
       "      <td>Correspondências Recebidas</td>\n",
       "      <td>0</td>\n",
       "      <td>2012</td>\n",
       "      <td>Abelardo</td>\n",
       "    </tr>\n",
       "    <tr>\n",
       "      <th>4</th>\n",
       "      <td>Correspondências Recebidas</td>\n",
       "      <td>0</td>\n",
       "      <td>2017</td>\n",
       "      <td>Abelardo</td>\n",
       "    </tr>\n",
       "  </tbody>\n",
       "</table>\n",
       "</div>"
      ],
      "text/plain": [
       "                         Tipo Quantidade   Ano  Vereador\n",
       "0  Correspondências Recebidas          0  2009  Abelardo\n",
       "1  Correspondências Recebidas          1  2010  Abelardo\n",
       "2  Correspondências Recebidas          0  2011  Abelardo\n",
       "3  Correspondências Recebidas          0  2012  Abelardo\n",
       "4  Correspondências Recebidas          0  2017  Abelardo"
      ]
     },
     "execution_count": 16,
     "metadata": {},
     "output_type": "execute_result"
    }
   ],
   "source": [
    "df_final['Quantidade'] = df_final['Quantidade'].apply(lambda x: 0 if x == '-' else x)\n",
    "df_final.head()"
   ]
  },
  {
   "cell_type": "code",
   "execution_count": 17,
   "metadata": {},
   "outputs": [
    {
     "data": {
      "text/plain": [
       "Tipo          object\n",
       "Quantidade     int32\n",
       "Ano           object\n",
       "Vereador      object\n",
       "dtype: object"
      ]
     },
     "execution_count": 17,
     "metadata": {},
     "output_type": "execute_result"
    }
   ],
   "source": [
    "df_final['Quantidade'] = df_final['Quantidade'].astype('int')\n",
    "df_final['Ano'] = df_final['Ano'].astype('str')\n",
    "df_final.dtypes"
   ]
  },
  {
   "cell_type": "markdown",
   "metadata": {},
   "source": [
    "## Salvando no Banco de Dados"
   ]
  },
  {
   "cell_type": "code",
   "execution_count": 18,
   "metadata": {},
   "outputs": [],
   "source": [
    "import psycopg2\n",
    "\n",
    "dbname = \"prefeitura\"\n",
    "user = \"postgres\"\n",
    "password = \"96047991\"\n",
    "host = \"localhost\"\n",
    "port = \"5432\"\n",
    "\n",
    "conn = psycopg2.connect(\n",
    "    host=host,\n",
    "    port=port,\n",
    "    user=user,\n",
    "    password=password\n",
    ")\n",
    "\n",
    "#conn.set_isolation_level(0)\n",
    "#cur = conn.cursor()\n",
    "#cur.execute('CREATE DATABASE prefeitura')\n",
    "#conn.commit()\n",
    "#cur.close()\n",
    "#conn.close()\n",
    "\n"
   ]
  },
  {
   "cell_type": "code",
   "execution_count": 19,
   "metadata": {},
   "outputs": [],
   "source": [
    "conn = psycopg2.connect(dbname=dbname, user=user, password=password, host=host, port=port)"
   ]
  },
  {
   "cell_type": "code",
   "execution_count": 33,
   "metadata": {},
   "outputs": [],
   "source": [
    "cur = conn.cursor()\n",
    "cur.execute('DROP TABLE imagens_vereadores')"
   ]
  },
  {
   "cell_type": "code",
   "execution_count": 21,
   "metadata": {},
   "outputs": [
    {
     "data": {
      "text/plain": [
       "Tipo          object\n",
       "Quantidade     int32\n",
       "Ano           object\n",
       "Vereador      object\n",
       "dtype: object"
      ]
     },
     "execution_count": 21,
     "metadata": {},
     "output_type": "execute_result"
    }
   ],
   "source": [
    "df_final.dtypes"
   ]
  },
  {
   "cell_type": "code",
   "execution_count": 22,
   "metadata": {},
   "outputs": [],
   "source": [
    "cur = conn.cursor()\n",
    "\n",
    "#cur.execute(\"CREATE TABLE vereadores (nome_vereador VARCHAR(50), partido_vereador VARCHAR(50), link_vereador VARCHAR(200) );\")\n",
    "#cur.execute(\"CREATE TABLE proposituras (Tipo VARCHAR(50), Quantidade INTEGER, Ano VARCHAR(50), Vereador VARCHAR(50));\")\n",
    "\n",
    "#cur.execute(\"INSERT INTO tabela1 (coluna1, coluna2) VALUES (%s, %s);\", (10, \"texto\"))\n",
    "#cur.execute(\"INSERT INTO tabela2 (coluna1, coluna2) VALUES (%s, %s);\", (\"texto\", 3.14))\n",
    "\n",
    "#conn.commit()\n",
    "\n",
    "#cur.close()\n",
    "#conn.close()"
   ]
  },
  {
   "cell_type": "code",
   "execution_count": 23,
   "metadata": {},
   "outputs": [
    {
     "data": {
      "text/plain": [
       "470"
      ]
     },
     "execution_count": 23,
     "metadata": {},
     "output_type": "execute_result"
    }
   ],
   "source": [
    "from sqlalchemy import create_engine\n",
    "\n",
    "engine = create_engine('postgresql://postgres:'+password+'@'+host+':'+port+'/'+dbname)\n",
    "#df_vereadores.to_sql('vereadores', engine, if_exists='replace', index=False)\n",
    "df_final.to_sql('proposituras', engine, if_exists='replace', index=False)"
   ]
  },
  {
   "cell_type": "code",
   "execution_count": 46,
   "metadata": {},
   "outputs": [
    {
     "name": "stdout",
     "output_type": "stream",
     "text": [
      "('Abelardo.jpg', <memory at 0x00000259BF843400>)\n",
      "('Alessandra Lucchesi.jpg', <memory at 0x00000259BF843280>)\n",
      "('Cláudia Gabriel (Licenciada).jpg', <memory at 0x00000259BF843100>)\n",
      "('Cula.jpg', <memory at 0x00000259BE3CDB80>)\n",
      "('Curumim (Licenciado).jpg', <memory at 0x00000259BE3CD940>)\n",
      "('Erika da Liga do Bem.jpg', <memory at 0x00000259BE3CDA00>)\n",
      "('Lelo Pagani (Suplente).jpg', <memory at 0x00000259BE3CD040>)\n",
      "('Marcelo Sleiman.jpg', <memory at 0x00000259BE3CDE80>)\n",
      "('PALHINHA.jpg', <memory at 0x00000259BE3CDF40>)\n",
      "('Pedroso (Suplente).jpg', <memory at 0x00000259BE3CDC40>)\n",
      "('Rose Ielo.jpg', <memory at 0x00000259BE3CDDC0>)\n",
      "('Sargento Laudo.jpg', <memory at 0x00000259BE3CD880>)\n",
      "('Silvio.jpg', <memory at 0x00000259C0331280>)\n"
     ]
    }
   ],
   "source": []
  },
  {
   "cell_type": "code",
   "execution_count": 34,
   "metadata": {},
   "outputs": [],
   "source": [
    "## TABELA DE IMAGENS DOS VEREADORES!!!\n",
    "cur = conn.cursor()\n",
    "\n",
    "cur.execute('''\n",
    "    CREATE TABLE imagens_vereadores (\n",
    "        vereador VARCHAR(50),\n",
    "        imagem BYTEA\n",
    "    );\n",
    "''')"
   ]
  },
  {
   "cell_type": "code",
   "execution_count": 29,
   "metadata": {},
   "outputs": [],
   "source": [
    "import os\n",
    "import psycopg2\n",
    "from psycopg2.extensions import ISOLATION_LEVEL_AUTOCOMMIT"
   ]
  },
  {
   "cell_type": "code",
   "execution_count": 35,
   "metadata": {},
   "outputs": [
    {
     "name": "stdout",
     "output_type": "stream",
     "text": [
      "Abelardo.jpg\n",
      "Alessandra Lucchesi.jpg\n",
      "Cláudia Gabriel (Licenciada).jpg\n",
      "Cula.jpg\n",
      "Curumim (Licenciado).jpg\n",
      "Erika da Liga do Bem.jpg\n",
      "Lelo Pagani (Suplente).jpg\n",
      "Marcelo Sleiman.jpg\n",
      "PALHINHA.jpg\n",
      "Pedroso (Suplente).jpg\n",
      "Rose Ielo.jpg\n",
      "Sargento Laudo.jpg\n",
      "Silvio.jpg\n"
     ]
    }
   ],
   "source": [
    "diretorio = \"C:/Users/thale/Documents/Estudos/Projeto Prefeitura\"\n",
    "for arquivo in os.listdir(diretorio):\n",
    "    if arquivo.endswith(\".jpg\") or arquivo.endswith(\".png\"):\n",
    "        with open(os.path.join(diretorio, arquivo), \"rb\") as imagem_arquivo:\n",
    "            conteudo_imagem = imagem_arquivo.read()\n",
    "            arquivo1 = arquivo.split('.')[0]\n",
    "            cur.execute(\"INSERT INTO imagens_vereadores (vereador, imagem) VALUES (%s, %s)\", (arquivo1, psycopg2.Binary(conteudo_imagem)))\n",
    "            conn.commit()\n",
    "        print(arquivo)"
   ]
  },
  {
   "cell_type": "code",
   "execution_count": 36,
   "metadata": {},
   "outputs": [
    {
     "name": "stdout",
     "output_type": "stream",
     "text": [
      "('Abelardo', <memory at 0x000002547862C580>)\n",
      "('Alessandra Lucchesi', <memory at 0x000002547862C640>)\n",
      "('Cláudia Gabriel (Licenciada)', <memory at 0x000002547862C700>)\n",
      "('Cula', <memory at 0x000002547862C7C0>)\n",
      "('Curumim (Licenciado)', <memory at 0x000002547862C880>)\n",
      "('Erika da Liga do Bem', <memory at 0x000002547862C940>)\n",
      "('Lelo Pagani (Suplente)', <memory at 0x000002547862CA00>)\n",
      "('Marcelo Sleiman', <memory at 0x000002547862CAC0>)\n",
      "('PALHINHA', <memory at 0x000002547862CB80>)\n",
      "('Pedroso (Suplente)', <memory at 0x000002547862CC40>)\n",
      "('Rose Ielo', <memory at 0x000002547862CD00>)\n",
      "('Sargento Laudo', <memory at 0x000002547862CDC0>)\n",
      "('Silvio', <memory at 0x000002547862CE80>)\n"
     ]
    }
   ],
   "source": [
    "cur = conn.cursor()\n",
    "cur.execute('SELECT * FROM imagens_vereadores')\n",
    "\n",
    "results = cur.fetchall()\n",
    "for row in results:\n",
    "    print(row)"
   ]
  }
 ],
 "metadata": {
  "kernelspec": {
   "display_name": "base",
   "language": "python",
   "name": "python3"
  },
  "language_info": {
   "codemirror_mode": {
    "name": "ipython",
    "version": 3
   },
   "file_extension": ".py",
   "mimetype": "text/x-python",
   "name": "python",
   "nbconvert_exporter": "python",
   "pygments_lexer": "ipython3",
   "version": "3.9.13"
  },
  "orig_nbformat": 4
 },
 "nbformat": 4,
 "nbformat_minor": 2
}
