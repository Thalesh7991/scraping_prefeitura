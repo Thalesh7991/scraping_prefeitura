{
 "cells": [
  {
   "cell_type": "code",
   "execution_count": 106,
   "metadata": {},
   "outputs": [],
   "source": [
    "import pandas as pd\n",
    "import requests\n",
    "\n",
    "from bs4 import BeautifulSoup\n",
    "\n",
    "pd.set_option('display.max_rows', None)"
   ]
  },
  {
   "cell_type": "code",
   "execution_count": 5,
   "metadata": {},
   "outputs": [],
   "source": [
    "headers = {'user-agent': 'Mozilla/5.0'}\n",
    "resposta = requests.get('https://www.camarabotucatu.sp.gov.br/Vereador',\n",
    "                        headers= headers\n",
    "                        )"
   ]
  },
  {
   "cell_type": "markdown",
   "metadata": {},
   "source": [
    "## Pegando o Nome e o Partido dos Vereadores"
   ]
  },
  {
   "cell_type": "code",
   "execution_count": 6,
   "metadata": {},
   "outputs": [],
   "source": [
    "text_estruturado = BeautifulSoup(resposta.text)\n",
    "#text_estruturado"
   ]
  },
  {
   "cell_type": "code",
   "execution_count": 7,
   "metadata": {},
   "outputs": [],
   "source": [
    "lista_vereadores = text_estruturado.find_all('h2')"
   ]
  },
  {
   "cell_type": "code",
   "execution_count": null,
   "metadata": {},
   "outputs": [],
   "source": []
  },
  {
   "cell_type": "code",
   "execution_count": 8,
   "metadata": {},
   "outputs": [],
   "source": [
    "tags_li = text_estruturado.find_all('span')\n",
    "lista_partidos = []\n",
    "for i in range(len(tags_li)):\n",
    "    if tags_li[i].find_all(['li']):\n",
    "        if tags_li[i].find_all('a'):\n",
    "            lista_partidos.append( tags_li[i].text.replace('\\n', '') )\n",
    "\n",
    "\n",
    "nomes_vereadores = []\n",
    "for i in range(len(lista_vereadores)):\n",
    "    #print(i)\n",
    "    nomes_vereadores.append(  lista_vereadores[i].contents[1].text.split('-')[1].strip()  )"
   ]
  },
  {
   "cell_type": "code",
   "execution_count": 9,
   "metadata": {},
   "outputs": [
    {
     "data": {
      "text/plain": [
       "['Abelardo',\n",
       " 'Alessandra Lucchesi',\n",
       " 'Curumim (Licenciado)',\n",
       " 'Cula',\n",
       " 'Cláudia Gabriel (Licenciada)',\n",
       " 'Marcelo Sleiman',\n",
       " 'Erika da Liga do Bem',\n",
       " 'Pedroso (Suplente)',\n",
       " 'Sargento Laudo',\n",
       " 'Lelo Pagani (Suplente)',\n",
       " 'PALHINHA',\n",
       " 'Rose Ielo',\n",
       " 'Silvio']"
      ]
     },
     "execution_count": 9,
     "metadata": {},
     "output_type": "execute_result"
    }
   ],
   "source": [
    "nomes_vereadores"
   ]
  },
  {
   "cell_type": "code",
   "execution_count": 10,
   "metadata": {},
   "outputs": [],
   "source": [
    "df_vereadores = pd.DataFrame()"
   ]
  },
  {
   "cell_type": "code",
   "execution_count": 11,
   "metadata": {},
   "outputs": [
    {
     "data": {
      "text/plain": [
       "['Republicanos',\n",
       " 'PSDB-Partido da Social Democracia Brasileira',\n",
       " 'PSDB-Partido da Social Democracia Brasileira',\n",
       " 'PSDB-Partido da Social Democracia Brasileira',\n",
       " 'União Brasil',\n",
       " 'União Brasil',\n",
       " 'Republicanos',\n",
       " 'União Brasil',\n",
       " 'PSDB-Partido da Social Democracia Brasileira',\n",
       " 'PSDB-Partido da Social Democracia Brasileira',\n",
       " 'União Brasil',\n",
       " 'PDT-Partido Democrático Trabalhista',\n",
       " 'Republicanos']"
      ]
     },
     "execution_count": 11,
     "metadata": {},
     "output_type": "execute_result"
    }
   ],
   "source": [
    "lista_partidos"
   ]
  },
  {
   "cell_type": "code",
   "execution_count": 12,
   "metadata": {},
   "outputs": [],
   "source": [
    "df_vereadores['nome_vereador'] = nomes_vereadores\n",
    "df_vereadores['partido_vereador'] = lista_partidos"
   ]
  },
  {
   "cell_type": "code",
   "execution_count": 13,
   "metadata": {},
   "outputs": [
    {
     "data": {
      "text/html": [
       "<div>\n",
       "<style scoped>\n",
       "    .dataframe tbody tr th:only-of-type {\n",
       "        vertical-align: middle;\n",
       "    }\n",
       "\n",
       "    .dataframe tbody tr th {\n",
       "        vertical-align: top;\n",
       "    }\n",
       "\n",
       "    .dataframe thead th {\n",
       "        text-align: right;\n",
       "    }\n",
       "</style>\n",
       "<table border=\"1\" class=\"dataframe\">\n",
       "  <thead>\n",
       "    <tr style=\"text-align: right;\">\n",
       "      <th></th>\n",
       "      <th>nome_vereador</th>\n",
       "      <th>partido_vereador</th>\n",
       "    </tr>\n",
       "  </thead>\n",
       "  <tbody>\n",
       "    <tr>\n",
       "      <th>0</th>\n",
       "      <td>Abelardo</td>\n",
       "      <td>Republicanos</td>\n",
       "    </tr>\n",
       "    <tr>\n",
       "      <th>1</th>\n",
       "      <td>Alessandra Lucchesi</td>\n",
       "      <td>PSDB-Partido da Social Democracia Brasileira</td>\n",
       "    </tr>\n",
       "    <tr>\n",
       "      <th>2</th>\n",
       "      <td>Curumim (Licenciado)</td>\n",
       "      <td>PSDB-Partido da Social Democracia Brasileira</td>\n",
       "    </tr>\n",
       "    <tr>\n",
       "      <th>3</th>\n",
       "      <td>Cula</td>\n",
       "      <td>PSDB-Partido da Social Democracia Brasileira</td>\n",
       "    </tr>\n",
       "    <tr>\n",
       "      <th>4</th>\n",
       "      <td>Cláudia Gabriel (Licenciada)</td>\n",
       "      <td>União Brasil</td>\n",
       "    </tr>\n",
       "    <tr>\n",
       "      <th>5</th>\n",
       "      <td>Marcelo Sleiman</td>\n",
       "      <td>União Brasil</td>\n",
       "    </tr>\n",
       "    <tr>\n",
       "      <th>6</th>\n",
       "      <td>Erika da Liga do Bem</td>\n",
       "      <td>Republicanos</td>\n",
       "    </tr>\n",
       "    <tr>\n",
       "      <th>7</th>\n",
       "      <td>Pedroso (Suplente)</td>\n",
       "      <td>União Brasil</td>\n",
       "    </tr>\n",
       "    <tr>\n",
       "      <th>8</th>\n",
       "      <td>Sargento Laudo</td>\n",
       "      <td>PSDB-Partido da Social Democracia Brasileira</td>\n",
       "    </tr>\n",
       "    <tr>\n",
       "      <th>9</th>\n",
       "      <td>Lelo Pagani (Suplente)</td>\n",
       "      <td>PSDB-Partido da Social Democracia Brasileira</td>\n",
       "    </tr>\n",
       "    <tr>\n",
       "      <th>10</th>\n",
       "      <td>PALHINHA</td>\n",
       "      <td>União Brasil</td>\n",
       "    </tr>\n",
       "    <tr>\n",
       "      <th>11</th>\n",
       "      <td>Rose Ielo</td>\n",
       "      <td>PDT-Partido Democrático Trabalhista</td>\n",
       "    </tr>\n",
       "    <tr>\n",
       "      <th>12</th>\n",
       "      <td>Silvio</td>\n",
       "      <td>Republicanos</td>\n",
       "    </tr>\n",
       "  </tbody>\n",
       "</table>\n",
       "</div>"
      ],
      "text/plain": [
       "                   nome_vereador                              partido_vereador\n",
       "0                       Abelardo                                  Republicanos\n",
       "1            Alessandra Lucchesi  PSDB-Partido da Social Democracia Brasileira\n",
       "2           Curumim (Licenciado)  PSDB-Partido da Social Democracia Brasileira\n",
       "3                           Cula  PSDB-Partido da Social Democracia Brasileira\n",
       "4   Cláudia Gabriel (Licenciada)                                  União Brasil\n",
       "5                Marcelo Sleiman                                  União Brasil\n",
       "6           Erika da Liga do Bem                                  Republicanos\n",
       "7             Pedroso (Suplente)                                  União Brasil\n",
       "8                 Sargento Laudo  PSDB-Partido da Social Democracia Brasileira\n",
       "9         Lelo Pagani (Suplente)  PSDB-Partido da Social Democracia Brasileira\n",
       "10                      PALHINHA                                  União Brasil\n",
       "11                     Rose Ielo           PDT-Partido Democrático Trabalhista\n",
       "12                        Silvio                                  Republicanos"
      ]
     },
     "execution_count": 13,
     "metadata": {},
     "output_type": "execute_result"
    }
   ],
   "source": [
    "df_vereadores"
   ]
  },
  {
   "cell_type": "markdown",
   "metadata": {},
   "source": [
    "## Para Cada Vereador trazer tabela do que ja fez em cada Ano"
   ]
  },
  {
   "cell_type": "code",
   "execution_count": 94,
   "metadata": {},
   "outputs": [],
   "source": [
    "links_vereadores = []\n",
    "for i in range(len(lista_vereadores)):\n",
    "    links_vereadores.append(lista_vereadores[i].a.get('href'))\n",
    "\n",
    "df_vereadores['link'] = links_vereadores"
   ]
  },
  {
   "cell_type": "code",
   "execution_count": 95,
   "metadata": {},
   "outputs": [
    {
     "data": {
      "text/html": [
       "<div>\n",
       "<style scoped>\n",
       "    .dataframe tbody tr th:only-of-type {\n",
       "        vertical-align: middle;\n",
       "    }\n",
       "\n",
       "    .dataframe tbody tr th {\n",
       "        vertical-align: top;\n",
       "    }\n",
       "\n",
       "    .dataframe thead th {\n",
       "        text-align: right;\n",
       "    }\n",
       "</style>\n",
       "<table border=\"1\" class=\"dataframe\">\n",
       "  <thead>\n",
       "    <tr style=\"text-align: right;\">\n",
       "      <th></th>\n",
       "      <th>nome_vereador</th>\n",
       "      <th>partido_vereador</th>\n",
       "      <th>link</th>\n",
       "    </tr>\n",
       "  </thead>\n",
       "  <tbody>\n",
       "    <tr>\n",
       "      <th>0</th>\n",
       "      <td>Abelardo</td>\n",
       "      <td>Republicanos</td>\n",
       "      <td>http://www.camarabotucatu.sp.gov.br/Consulta/v...</td>\n",
       "    </tr>\n",
       "    <tr>\n",
       "      <th>1</th>\n",
       "      <td>Alessandra Lucchesi</td>\n",
       "      <td>PSDB-Partido da Social Democracia Brasileira</td>\n",
       "      <td>http://www.camarabotucatu.sp.gov.br/Consulta/v...</td>\n",
       "    </tr>\n",
       "    <tr>\n",
       "      <th>2</th>\n",
       "      <td>Curumim (Licenciado)</td>\n",
       "      <td>PSDB-Partido da Social Democracia Brasileira</td>\n",
       "      <td>http://www.camarabotucatu.sp.gov.br/Consulta/v...</td>\n",
       "    </tr>\n",
       "    <tr>\n",
       "      <th>3</th>\n",
       "      <td>Cula</td>\n",
       "      <td>PSDB-Partido da Social Democracia Brasileira</td>\n",
       "      <td>http://www.camarabotucatu.sp.gov.br/Consulta/v...</td>\n",
       "    </tr>\n",
       "    <tr>\n",
       "      <th>4</th>\n",
       "      <td>Cláudia Gabriel (Licenciada)</td>\n",
       "      <td>União Brasil</td>\n",
       "      <td>http://www.camarabotucatu.sp.gov.br/Consulta/v...</td>\n",
       "    </tr>\n",
       "    <tr>\n",
       "      <th>5</th>\n",
       "      <td>Marcelo Sleiman</td>\n",
       "      <td>União Brasil</td>\n",
       "      <td>http://www.camarabotucatu.sp.gov.br/Consulta/v...</td>\n",
       "    </tr>\n",
       "    <tr>\n",
       "      <th>6</th>\n",
       "      <td>Erika da Liga do Bem</td>\n",
       "      <td>Republicanos</td>\n",
       "      <td>http://www.camarabotucatu.sp.gov.br/Consulta/v...</td>\n",
       "    </tr>\n",
       "    <tr>\n",
       "      <th>7</th>\n",
       "      <td>Pedroso (Suplente)</td>\n",
       "      <td>União Brasil</td>\n",
       "      <td>http://www.camarabotucatu.sp.gov.br/Consulta/v...</td>\n",
       "    </tr>\n",
       "    <tr>\n",
       "      <th>8</th>\n",
       "      <td>Sargento Laudo</td>\n",
       "      <td>PSDB-Partido da Social Democracia Brasileira</td>\n",
       "      <td>http://www.camarabotucatu.sp.gov.br/Consulta/v...</td>\n",
       "    </tr>\n",
       "    <tr>\n",
       "      <th>9</th>\n",
       "      <td>Lelo Pagani (Suplente)</td>\n",
       "      <td>PSDB-Partido da Social Democracia Brasileira</td>\n",
       "      <td>http://www.camarabotucatu.sp.gov.br/Consulta/v...</td>\n",
       "    </tr>\n",
       "    <tr>\n",
       "      <th>10</th>\n",
       "      <td>PALHINHA</td>\n",
       "      <td>União Brasil</td>\n",
       "      <td>http://www.camarabotucatu.sp.gov.br/Consulta/v...</td>\n",
       "    </tr>\n",
       "    <tr>\n",
       "      <th>11</th>\n",
       "      <td>Rose Ielo</td>\n",
       "      <td>PDT-Partido Democrático Trabalhista</td>\n",
       "      <td>http://www.camarabotucatu.sp.gov.br/Consulta/v...</td>\n",
       "    </tr>\n",
       "    <tr>\n",
       "      <th>12</th>\n",
       "      <td>Silvio</td>\n",
       "      <td>Republicanos</td>\n",
       "      <td>http://www.camarabotucatu.sp.gov.br/Consulta/v...</td>\n",
       "    </tr>\n",
       "  </tbody>\n",
       "</table>\n",
       "</div>"
      ],
      "text/plain": [
       "                   nome_vereador  \\\n",
       "0                       Abelardo   \n",
       "1            Alessandra Lucchesi   \n",
       "2           Curumim (Licenciado)   \n",
       "3                           Cula   \n",
       "4   Cláudia Gabriel (Licenciada)   \n",
       "5                Marcelo Sleiman   \n",
       "6           Erika da Liga do Bem   \n",
       "7             Pedroso (Suplente)   \n",
       "8                 Sargento Laudo   \n",
       "9         Lelo Pagani (Suplente)   \n",
       "10                      PALHINHA   \n",
       "11                     Rose Ielo   \n",
       "12                        Silvio   \n",
       "\n",
       "                                partido_vereador  \\\n",
       "0                                   Republicanos   \n",
       "1   PSDB-Partido da Social Democracia Brasileira   \n",
       "2   PSDB-Partido da Social Democracia Brasileira   \n",
       "3   PSDB-Partido da Social Democracia Brasileira   \n",
       "4                                   União Brasil   \n",
       "5                                   União Brasil   \n",
       "6                                   Republicanos   \n",
       "7                                   União Brasil   \n",
       "8   PSDB-Partido da Social Democracia Brasileira   \n",
       "9   PSDB-Partido da Social Democracia Brasileira   \n",
       "10                                  União Brasil   \n",
       "11           PDT-Partido Democrático Trabalhista   \n",
       "12                                  Republicanos   \n",
       "\n",
       "                                                 link  \n",
       "0   http://www.camarabotucatu.sp.gov.br/Consulta/v...  \n",
       "1   http://www.camarabotucatu.sp.gov.br/Consulta/v...  \n",
       "2   http://www.camarabotucatu.sp.gov.br/Consulta/v...  \n",
       "3   http://www.camarabotucatu.sp.gov.br/Consulta/v...  \n",
       "4   http://www.camarabotucatu.sp.gov.br/Consulta/v...  \n",
       "5   http://www.camarabotucatu.sp.gov.br/Consulta/v...  \n",
       "6   http://www.camarabotucatu.sp.gov.br/Consulta/v...  \n",
       "7   http://www.camarabotucatu.sp.gov.br/Consulta/v...  \n",
       "8   http://www.camarabotucatu.sp.gov.br/Consulta/v...  \n",
       "9   http://www.camarabotucatu.sp.gov.br/Consulta/v...  \n",
       "10  http://www.camarabotucatu.sp.gov.br/Consulta/v...  \n",
       "11  http://www.camarabotucatu.sp.gov.br/Consulta/v...  \n",
       "12  http://www.camarabotucatu.sp.gov.br/Consulta/v...  "
      ]
     },
     "execution_count": 95,
     "metadata": {},
     "output_type": "execute_result"
    }
   ],
   "source": [
    "df_vereadores"
   ]
  },
  {
   "cell_type": "code",
   "execution_count": 15,
   "metadata": {},
   "outputs": [],
   "source": [
    "headers = {'user-agent': 'Mozilla/5.0'}\n",
    "resposta_vereador = requests.get(links_vereadores[0],\n",
    "                        headers= headers\n",
    "                        )"
   ]
  },
  {
   "cell_type": "code",
   "execution_count": 148,
   "metadata": {},
   "outputs": [],
   "source": [
    "vereador_estruturado = BeautifulSoup(resposta_vereador.text)\n",
    "tabela_documentos = vereador_estruturado.find_all('table')\n",
    "\n",
    "# Pegando a linha da tabela do site que contém os anos de atuação dos vereadores\n",
    "lista_anos = []\n",
    "for i in range(len( tabela_documentos[1].find_all('th', {'class': 'text-right'}) ) ):\n",
    "    if tabela_documentos[1].find_all('th', {'class': 'text-right'})[i].text:\n",
    "        lista_anos.append(tabela_documentos[1].find_all('th', {'class': 'text-right'})[i].text)\n",
    "lista_anos = sorted([*set(lista_anos)])\n",
    "lista_anos.remove('Total')\n",
    "#lista_anos\n",
    "\n",
    "\n",
    "# Pegando todas as proposituras do vereador em cada tipo e alocando em um dataframe\n",
    "tbody = tabela_documentos[1].find_all('tbody')[0].find_all('tr')#[0]#.find_all('td')\n",
    "list_dict = []\n",
    "df_teste = pd.DataFrame(columns=['Tipo', 'Quantidade'])\n",
    "\n",
    "for i in range(len(tbody)):\n",
    "    for j in range(len( tbody[i].find_all('td') )):\n",
    "        list_dict.append(tbody[i].find_all('td')[j].text)\n",
    "    \n",
    "    #list_aux = list_dict\n",
    "    #list_aux.remove(list_aux[0])\n",
    "    df_novo = pd.DataFrame({'Tipo': [list_dict[0]]*(len(list_dict)-2), 'Quantidade': list_dict[1:-1], 'Ano': lista_anos})\n",
    "    df_teste = pd.concat([df_teste, df_novo], ignore_index=True)\n",
    "\n",
    "    list_dict = []\n",
    "#df_teste = df_teste.iloc[1:]\n",
    "\n"
   ]
  },
  {
   "cell_type": "code",
   "execution_count": null,
   "metadata": {},
   "outputs": [],
   "source": []
  },
  {
   "cell_type": "code",
   "execution_count": null,
   "metadata": {},
   "outputs": [],
   "source": []
  },
  {
   "cell_type": "code",
   "execution_count": null,
   "metadata": {},
   "outputs": [],
   "source": []
  }
 ],
 "metadata": {
  "kernelspec": {
   "display_name": "base",
   "language": "python",
   "name": "python3"
  },
  "language_info": {
   "codemirror_mode": {
    "name": "ipython",
    "version": 3
   },
   "file_extension": ".py",
   "mimetype": "text/x-python",
   "name": "python",
   "nbconvert_exporter": "python",
   "pygments_lexer": "ipython3",
   "version": "3.9.13"
  },
  "orig_nbformat": 4
 },
 "nbformat": 4,
 "nbformat_minor": 2
}
